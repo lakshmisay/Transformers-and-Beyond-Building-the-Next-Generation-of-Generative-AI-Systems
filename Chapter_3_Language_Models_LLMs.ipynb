{
 "cells": [
  {
   "cell_type": "markdown",
   "id": "e7fe5420",
   "metadata": {},
   "source": [
    "\n",
    "# Chapter 3: Language Models and LLMs\n",
    "\n",
    "This notebook explores:\n",
    "- The foundations of Language Models (LMs) and Large Language Models (LLMs)\n",
    "- Differences in encoder-only, decoder-only, and encoder-decoder architectures\n",
    "- Pretrained LLMs like BERT, GPT, T5\n",
    "- Inference, fine-tuning, and API usage\n",
    "\n",
    "## Learning Objectives\n",
    "\n",
    "- Understand the purpose and design of language models\n",
    "- Implement and use encoder-based models (BERT) for embeddings\n",
    "- Use decoder-based models (GPT-2) for generation\n",
    "- Apply encoder-decoder models (T5) for translation/summarization\n",
    "- Compare popular open-source LLMs\n"
   ]
  },
  {
   "cell_type": "markdown",
   "id": "964b659f",
   "metadata": {},
   "source": [
    "\n",
    "## Encoder-Only Models: BERT\n",
    "\n",
    "Used primarily for classification, sentence embeddings, question answering.\n"
   ]
  },
  {
   "cell_type": "code",
   "execution_count": null,
   "id": "b6bb7d83",
   "metadata": {},
   "outputs": [],
   "source": [
    "\n",
    "from transformers import AutoTokenizer, AutoModel\n",
    "import torch\n",
    "\n",
    "tokenizer = AutoTokenizer.from_pretrained(\"bert-base-uncased\")\n",
    "model = AutoModel.from_pretrained(\"bert-base-uncased\")\n",
    "\n",
    "sentence = \"Language models are the backbone of modern NLP.\"\n",
    "inputs = tokenizer(sentence, return_tensors=\"pt\")\n",
    "with torch.no_grad():\n",
    "    outputs = model(**inputs)\n",
    "\n",
    "# Mean pooling\n",
    "embedding = outputs.last_hidden_state.mean(dim=1)\n",
    "print(\"Sentence Embedding Shape:\", embedding.shape)\n"
   ]
  },
  {
   "cell_type": "markdown",
   "id": "24fc43b5",
   "metadata": {},
   "source": [
    "\n",
    "## Decoder-Only Models: GPT-2\n",
    "\n",
    "Primarily used for autoregressive text generation.\n"
   ]
  },
  {
   "cell_type": "code",
   "execution_count": null,
   "id": "d578abfe",
   "metadata": {},
   "outputs": [],
   "source": [
    "\n",
    "from transformers import GPT2LMHeadModel, GPT2Tokenizer\n",
    "\n",
    "model = GPT2LMHeadModel.from_pretrained(\"gpt2\")\n",
    "tokenizer = GPT2Tokenizer.from_pretrained(\"gpt2\")\n",
    "\n",
    "input_text = \"Explain quantum computing in simple terms\"\n",
    "inputs = tokenizer(input_text, return_tensors=\"pt\")\n",
    "outputs = model.generate(**inputs, max_length=60)\n",
    "\n",
    "print(\"Generated Text:\")\n",
    "print(tokenizer.decode(outputs[0], skip_special_tokens=True))\n"
   ]
  },
  {
   "cell_type": "markdown",
   "id": "c06d9f7f",
   "metadata": {},
   "source": [
    "\n",
    "## Encoder-Decoder Models: T5\n",
    "\n",
    "T5 can be used for translation, summarization, and QA.\n"
   ]
  },
  {
   "cell_type": "code",
   "execution_count": null,
   "id": "9740c7b9",
   "metadata": {},
   "outputs": [],
   "source": [
    "\n",
    "from transformers import T5ForConditionalGeneration, T5Tokenizer\n",
    "\n",
    "model = T5ForConditionalGeneration.from_pretrained(\"t5-small\")\n",
    "tokenizer = T5Tokenizer.from_pretrained(\"t5-small\")\n",
    "\n",
    "text = \"summarize: The quick brown fox jumps over the lazy dog. This sentence contains every letter of the alphabet and is often used to test fonts or keyboards.\"\n",
    "inputs = tokenizer(text, return_tensors=\"pt\", padding=True)\n",
    "\n",
    "output = model.generate(**inputs, max_length=30)\n",
    "print(\"Summary:\", tokenizer.decode(output[0], skip_special_tokens=True))\n"
   ]
  },
  {
   "cell_type": "markdown",
   "id": "10043ab7",
   "metadata": {},
   "source": [
    "\n",
    "## Popular Open-Source LLMs\n",
    "\n",
    "| Model         | Type           | Best For                         |\n",
    "|---------------|----------------|----------------------------------|\n",
    "| BERT          | Encoder         | Embeddings, QA, classification  |\n",
    "| GPT-2, GPT-3  | Decoder         | Text generation, summarization  |\n",
    "| T5            | Encoder-Decoder | Translation, QA, summarization  |\n",
    "| Mistral       | Decoder         | Instruction tuning              |\n",
    "| Falcon, LLaMA | Decoder         | Open fine-tuning                |\n"
   ]
  },
  {
   "cell_type": "markdown",
   "id": "caa9d769",
   "metadata": {},
   "source": [
    "\n",
    "## Real-World Use Cases\n",
    "\n",
    "- GPT: Chatbots, creative writing, coding assistants\n",
    "- BERT: Semantic search, intent classification\n",
    "- T5: Automated email summarization, document understanding\n"
   ]
  },
  {
   "cell_type": "markdown",
   "id": "907c40fb",
   "metadata": {},
   "source": [
    "\n",
    "## Exercises\n",
    "\n",
    "1. Use BERT embeddings for semantic similarity search.\n",
    "2. Try different prompts with GPT-2 and observe variations in outputs.\n",
    "3. Use T5 for translation from English to French.\n",
    "4. Compare latency and output quality between different LLMs.\n",
    "\n",
    "## References\n",
    "\n",
    "- Hugging Face: https://huggingface.co/models\n",
    "- T5 Paper: https://arxiv.org/abs/1910.10683\n",
    "- GPT-2 Blog: https://openai.com/research/gpt-2\n"
   ]
  }
 ],
 "metadata": {},
 "nbformat": 4,
 "nbformat_minor": 5
}
