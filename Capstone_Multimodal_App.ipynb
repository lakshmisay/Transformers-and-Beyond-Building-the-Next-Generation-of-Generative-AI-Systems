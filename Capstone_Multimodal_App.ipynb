{
 "cells": [
  {
   "cell_type": "markdown",
   "id": "be645d00",
   "metadata": {},
   "source": [
    "\n",
    "# Capstone Project: Multimodal AI Application\n",
    "\n",
    "This notebook uses BLIP to caption images and CLIP to match images with text prompts. Great for accessibility, AR/VR, and semantic search.\n"
   ]
  },
  {
   "cell_type": "code",
   "execution_count": null,
   "id": "4597e502",
   "metadata": {},
   "outputs": [],
   "source": [
    "\n",
    "from transformers import BlipProcessor, BlipForConditionalGeneration\n",
    "from PIL import Image\n",
    "import requests\n",
    "\n",
    "# Load and process image\n",
    "image_url = \"https://huggingface.co/datasets/nateraw/image-captioning-images/resolve/main/beach.png\"\n",
    "image = Image.open(requests.get(image_url, stream=True).raw)\n",
    "\n",
    "processor = BlipProcessor.from_pretrained(\"Salesforce/blip-image-captioning-base\")\n",
    "model = BlipForConditionalGeneration.from_pretrained(\"Salesforce/blip-image-captioning-base\")\n",
    "\n",
    "inputs = processor(image, return_tensors=\"pt\")\n",
    "output = model.generate(**inputs)\n",
    "caption = processor.decode(output[0], skip_special_tokens=True)\n",
    "\n",
    "print(\"Caption:\", caption)\n"
   ]
  },
  {
   "cell_type": "markdown",
   "id": "454f0c74",
   "metadata": {},
   "source": [
    "\n",
    "## CLIP Matching (Bonus)\n",
    "\n",
    "Use CLIP to match text to images or vice versa.\n"
   ]
  },
  {
   "cell_type": "code",
   "execution_count": null,
   "id": "1a8d8474",
   "metadata": {},
   "outputs": [],
   "source": [
    "\n",
    "from transformers import CLIPProcessor, CLIPModel\n",
    "\n",
    "clip_model = CLIPModel.from_pretrained(\"openai/clip-vit-base-patch32\")\n",
    "clip_processor = CLIPProcessor.from_pretrained(\"openai/clip-vit-base-patch32\")\n",
    "\n",
    "image = Image.open(requests.get(\"https://huggingface.co/datasets/huggingface/documentation-images/resolve/main/transformers/tasks/image_classification.png\", stream=True).raw)\n",
    "texts = [\"a diagram\", \"a cat\", \"a man\", \"a chart of transformers\"]\n",
    "\n",
    "inputs = clip_processor(text=texts, images=image, return_tensors=\"pt\", padding=True)\n",
    "outputs = clip_model(**inputs)\n",
    "logits_per_image = outputs.logits_per_image.softmax(dim=1)\n",
    "\n",
    "print(\"Matching scores:\", dict(zip(texts, logits_per_image[0].tolist())))\n"
   ]
  },
  {
   "cell_type": "markdown",
   "id": "7133bc42",
   "metadata": {},
   "source": [
    "\n",
    "## Project Ideas\n",
    "\n",
    "- Caption your dataset of real-estate/property images\n",
    "- Build a visual QA system with BLIP-2\n",
    "- Deploy with Streamlit or Gradio\n",
    "\n",
    "Have fun combining vision and language models!\n"
   ]
  }
 ],
 "metadata": {},
 "nbformat": 4,
 "nbformat_minor": 5
}
