{
 "cells": [
  {
   "cell_type": "markdown",
   "id": "130a817a",
   "metadata": {},
   "source": [
    "# GenAI Book - Practical Jupyter Notebooks\n",
    "\n",
    "Welcome to the official code repository for the book:  \n",
    "**_Generative AI: From Foundations to Real-World Deployment_ ✨**\n",
    "\n",
    "This repo offers chapter-wise, hands-on Jupyter notebooks to help you **learn, implement, and experiment** with Generative AI models and systems — covering everything from transformer architectures to fine-tuning, LangChain agents, and real-world deployments."
   ]
  },
  {
   "cell_type": "markdown",
   "id": "e0e0a33d",
   "metadata": {},
   "source": [
    "## What's Included\n",
    "\n",
    "| Chapter | Title                                  |\n",
    "|---------|----------------------------------------|\n",
    "| 1       | Foundations of Generative AI           |\n",
    "| 2       | Core Architectures and Training        |\n",
    "| 3       | Language Models and LLMs               |\n",
    "| 4       | Prompt Engineering and Generation      |\n",
    "| 5       | Vector Embeddings and Retrieval        |\n",
    "| 6       | LangChain and Generative Workflows     |\n",
    "| 7       | LLM Fine-Tuning and Customization      |\n",
    "| 8       | Agentic AI Systems                     |\n",
    "| 9       | Deployment and Real-World Applications |\n",
    "| 10      | AI Governance, Risk, and Compliance    |\n",
    "| 11      | Project Walkthroughs and Capstone      |"
   ]
  },
  {
   "cell_type": "markdown",
   "id": "0aba8629",
   "metadata": {},
   "source": [
    "## How to Use"
   ]
  },
  {
   "cell_type": "markdown",
   "id": "b1dd282b",
   "metadata": {},
   "source": [
    "### 1. Setup Environment\n",
    "\n",
    "**Using pip:**\n",
    "```bash\n",
    "pip install -r requirements.txt\n",
    "```\n",
    "\n",
    "**Using conda:**\n",
    "```bash\n",
    "conda create -n genai python=3.10\n",
    "conda activate genai\n",
    "pip install -r requirements.txt\n",
    "```"
   ]
  },
  {
   "cell_type": "markdown",
   "id": "d8adf964",
   "metadata": {},
   "source": [
    "### 2. Launch Notebooks\n",
    "\n",
    "Open the terminal and run:\n",
    "\n",
    "```bash\n",
    "jupyter notebook\n",
    "```"
   ]
  },
  {
   "cell_type": "markdown",
   "id": "7397c0aa",
   "metadata": {},
   "source": [
    "### 3. Capstone Projects\n",
    "\n",
    "Explore hands-on, end-to-end notebooks to apply everything you've learned:\n",
    "\n",
    "- `Capstone_Agent_RAG_Chatbot.ipynb`  \n",
    "  → Build a Retrieval-Augmented Generation Agent using LangChain, FAISS, and OpenAI or Hugging Face models.\n",
    "\n",
    "- `Capstone_Multimodal_App.ipynb`  \n",
    "  → Develop a Multimodal AI App combining text, images, and speech using transformers and foundational models.\n",
    "\n",
    "These projects are GPU-accelerated and production-aligned — ideal for both research and prototyping."
   ]
  },
  {
   "cell_type": "markdown",
   "id": "8f977a19",
   "metadata": {},
   "source": [
    "### 4. Recommended Hardware\n",
    "\n",
    "| Component | Recommended Specs                      |\n",
    "|-----------|----------------------------------------|\n",
    "| GPU       | NVIDIA RTX 3090 / A100 (16GB+ VRAM)    |\n",
    "| CPU       | Intel i7 / AMD Ryzen 7 or better       |\n",
    "| RAM       | Minimum 16GB                           |"
   ]
  },
  {
   "cell_type": "markdown",
   "id": "b9cd7d59",
   "metadata": {},
   "source": [
    "### Author\n",
    "\n",
    "**Lakshmi Devi Prakash**  \n",
    "Generative AI Researcher | Platform Architect  \n",
    "🔗 [LinkedIn](https://www.linkedin.com/in/lakshmidevip/)  \n",
    "🔗 [GitHub](https://github.com/lakshmisay)"
   ]
  }
 ],
 "metadata": {},
 "nbformat": 4,
 "nbformat_minor": 5
}