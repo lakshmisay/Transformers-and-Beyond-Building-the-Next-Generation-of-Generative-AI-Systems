{
  "nbformat": 4,
  "nbformat_minor": 0,
  "metadata": {
    "colab": {
      "provenance": []
    },
    "kernelspec": {
      "name": "python3",
      "display_name": "Python 3"
    },
    "language_info": {
      "name": "python"
    }
  },
  "cells": [
    {
      "cell_type": "code",
      "execution_count": 1,
      "metadata": {
        "id": "Ycb_A7IDY9DR"
      },
      "outputs": [],
      "source": [
        "# !pip install chromadb"
      ]
    },
    {
      "cell_type": "code",
      "source": [
        "import chromadb\n",
        "from chromadb.config import Settings\n",
        "from sentence_transformers import SentenceTransformer"
      ],
      "metadata": {
        "id": "VKwhT_nfZXoe"
      },
      "execution_count": 2,
      "outputs": []
    },
    {
      "cell_type": "code",
      "source": [
        "# chromadb.config?"
      ],
      "metadata": {
        "id": "DRA80w9hZqaf"
      },
      "execution_count": 3,
      "outputs": []
    },
    {
      "cell_type": "code",
      "source": [
        "client = chromadb.Client(Settings(persist_directory=\"./chroma_store\"))"
      ],
      "metadata": {
        "id": "QEQtdglQZ1bX"
      },
      "execution_count": 4,
      "outputs": []
    },
    {
      "cell_type": "code",
      "source": [
        "collection = client.get_or_create_collection(name=\"my_collection\")"
      ],
      "metadata": {
        "id": "JoQBW7yqazFL"
      },
      "execution_count": 5,
      "outputs": []
    },
    {
      "cell_type": "code",
      "source": [
        "documents = [\"Chroma is the open-source AI application database. Batteries included.\",\n",
        "             \"This is another document\",\n",
        "             \"\"\"Store embeddings and their metadata\n",
        "Vector search\n",
        "Full-text search\n",
        "Document storage\n",
        "Metadata filtering\n",
        "Multi-modal retrieval\"\"\",\n",
        "             \"Data ingestion is the firststep of building AI search system\"]\n",
        "ids = [\"id1\", \"id2\", \"id3\", \"id4\"]"
      ],
      "metadata": {
        "id": "jYRHNtdTbE2H"
      },
      "execution_count": 6,
      "outputs": []
    },
    {
      "cell_type": "code",
      "source": [
        "model = SentenceTransformer(\"all-MiniLM-L6-v2\")\n"
      ],
      "metadata": {
        "colab": {
          "base_uri": "https://localhost:8080/"
        },
        "id": "z1Wxz_A-bWcg",
        "outputId": "c7000be4-26a7-4c28-b433-56f6715b55bc"
      },
      "execution_count": 7,
      "outputs": [
        {
          "output_type": "stream",
          "name": "stderr",
          "text": [
            "/usr/local/lib/python3.11/dist-packages/huggingface_hub/utils/_auth.py:94: UserWarning: \n",
            "The secret `HF_TOKEN` does not exist in your Colab secrets.\n",
            "To authenticate with the Hugging Face Hub, create a token in your settings tab (https://huggingface.co/settings/tokens), set it as secret in your Google Colab and restart your session.\n",
            "You will be able to reuse this secret in all of your notebooks.\n",
            "Please note that authentication is recommended but still optional to access public models or datasets.\n",
            "  warnings.warn(\n"
          ]
        }
      ]
    },
    {
      "cell_type": "code",
      "source": [
        "len(model.encode(documents).tolist()[0])"
      ],
      "metadata": {
        "colab": {
          "base_uri": "https://localhost:8080/"
        },
        "id": "p6KyDkuUbqef",
        "outputId": "38919852-9e98-49c8-9167-2c5ac9e3f2b6"
      },
      "execution_count": 8,
      "outputs": [
        {
          "output_type": "execute_result",
          "data": {
            "text/plain": [
              "384"
            ]
          },
          "metadata": {},
          "execution_count": 8
        }
      ]
    },
    {
      "cell_type": "code",
      "source": [
        "embeddings = model.encode(documents).tolist()"
      ],
      "metadata": {
        "id": "4F6lAtEYb0GQ"
      },
      "execution_count": 9,
      "outputs": []
    },
    {
      "cell_type": "code",
      "source": [
        "#ingest document+ embeddings into chromadb\n",
        "collection.add(\n",
        "    documents=documents,\n",
        "    embeddings=embeddings,\n",
        "    ids=ids\n",
        ") #append, if id doesn't exist"
      ],
      "metadata": {
        "id": "VkP-SeCucBW6"
      },
      "execution_count": 10,
      "outputs": []
    },
    {
      "cell_type": "code",
      "source": [
        "query = \"how does chroma enable semantic retrieval?\""
      ],
      "metadata": {
        "id": "3xIEXpzpchSV"
      },
      "execution_count": 11,
      "outputs": []
    },
    {
      "cell_type": "code",
      "source": [
        "query_embedding = model.encode([query]).tolist()"
      ],
      "metadata": {
        "id": "Z7DKLIx-d15h"
      },
      "execution_count": 12,
      "outputs": []
    },
    {
      "cell_type": "code",
      "source": [
        "collection.query(query_embeddings=query_embedding, n_results=4)"
      ],
      "metadata": {
        "colab": {
          "base_uri": "https://localhost:8080/"
        },
        "id": "nSRGqLbId9hH",
        "outputId": "d07232f9-837b-4d7e-eb1c-087ffe70ac39"
      },
      "execution_count": 14,
      "outputs": [
        {
          "output_type": "execute_result",
          "data": {
            "text/plain": [
              "{'ids': [['id3', 'id1', 'id4', 'id2']],\n",
              " 'embeddings': None,\n",
              " 'documents': [['Store embeddings and their metadata\\nVector search\\nFull-text search\\nDocument storage\\nMetadata filtering\\nMulti-modal retrieval',\n",
              "   'Chroma is the open-source AI application database. Batteries included.',\n",
              "   'Data ingestion is the firststep of building AI search system',\n",
              "   'This is another document']],\n",
              " 'uris': None,\n",
              " 'included': ['metadatas', 'documents', 'distances'],\n",
              " 'data': None,\n",
              " 'metadatas': [[None, None, None, None]],\n",
              " 'distances': [[1.1204146146774292,\n",
              "   1.2025724649429321,\n",
              "   1.4463306665420532,\n",
              "   1.62909996509552]]}"
            ]
          },
          "metadata": {},
          "execution_count": 14
        }
      ]
    },
    {
      "cell_type": "code",
      "source": [
        "# cosine=highest simi,\n",
        "# eclidean= highest score, lowest similar"
      ],
      "metadata": {
        "id": "Xp-h43xkeMmO"
      },
      "execution_count": 13,
      "outputs": []
    }
  ]
}