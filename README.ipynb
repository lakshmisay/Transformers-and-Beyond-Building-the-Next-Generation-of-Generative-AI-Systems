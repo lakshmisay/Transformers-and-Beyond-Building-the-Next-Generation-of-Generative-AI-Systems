
# GenAI Book - Practical Jupyter Notebooks

This repository contains chapter-wise practical Jupyter notebooks that accompany the **"Generative AI: From Foundations to Real-World Deployment"** book.

## What's Included


| Chapter | Title |
|--------|-----------------------------|
| 1 | Foundations of Generative AI |
| 2 | Core Architectures and Training |
| 3 | Language Models and LLMs |
| 4 | Prompt Engineering and Generation |
| 5 | Vector Embeddings and Retrieval |
| 6 | LangChain and Generative Workflows |
| 7 | LLM Fine-Tuning and Customization |
| 8 | Agentic AI Systems |
| 9 | Deployment and Real-World Applications |
| 10 | AI Governance, Risk, and Compliance |
| 11 | Project Walkthroughs and Capstone |

## How to Use

### 1. Setup Environment
```bash
pip install -r requirements.txt
```

Or use:
```bash
conda create -n genai python=3.10
conda activate genai
pip install -r requirements.txt
```

### 2. Launch Notebooks
```bash
jupyter notebook
```

### 3. Try Capstone Projects
- `Capstone_Agent_RAG_Chatbot.ipynb`
- `Capstone_Multimodal_App.ipynb`

## Recommended Hardware

- GPU: NVIDIA 16GB+ for training/fine-tuning
- CPU: Intel i7 or Ryzen 7+
- RAM: 16GB or more

## Author

Phani Karnati  
Generative AI Researcher | Platform Architect
