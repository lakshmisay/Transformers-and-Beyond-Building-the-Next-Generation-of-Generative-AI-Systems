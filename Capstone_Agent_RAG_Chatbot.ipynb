{
 "cells": [
  {
   "cell_type": "markdown",
   "id": "188f1728",
   "metadata": {},
   "source": [
    "\n",
    "# Capstone Project: Agent + RAG Powered Chatbot\n",
    "\n",
    "This notebook walks through the construction of a Retrieval-Augmented Generation (RAG) chatbot with memory and tools using LangChain and Hugging Face embeddings.\n"
   ]
  },
  {
   "cell_type": "code",
   "execution_count": null,
   "id": "261671e4",
   "metadata": {},
   "outputs": [],
   "source": [
    "\n",
    "from langchain.embeddings import HuggingFaceEmbeddings\n",
    "from langchain.vectorstores import FAISS\n",
    "from langchain.memory import ConversationBufferMemory\n",
    "from langchain.chains import ConversationalRetrievalChain\n",
    "from langchain.llms import OpenAI  # Replace with local model if needed\n",
    "\n",
    "# Create knowledge base\n",
    "docs = [\n",
    "    \"Generative AI refers to models that create text, images, code.\",\n",
    "    \"LangChain is a Python framework to build GenAI workflows.\",\n",
    "    \"FAISS is used for fast vector search in dense embeddings.\"\n",
    "]\n",
    "\n",
    "embedding_model = HuggingFaceEmbeddings(model_name=\"all-MiniLM-L6-v2\")\n",
    "db = FAISS.from_texts(docs, embedding_model)\n",
    "retriever = db.as_retriever()\n",
    "\n",
    "# Setup conversation memory\n",
    "memory = ConversationBufferMemory(memory_key=\"chat_history\", return_messages=True)\n",
    "\n",
    "# Create RAG chatbot\n",
    "qa_chain = ConversationalRetrievalChain.from_llm(\n",
    "    llm=OpenAI(), retriever=retriever, memory=memory, verbose=True\n",
    ")\n",
    "\n",
    "# Test conversation\n",
    "qa_chain({\"question\": \"What is LangChain?\"})\n",
    "qa_chain({\"question\": \"Does it help in workflows?\"})\n"
   ]
  },
  {
   "cell_type": "markdown",
   "id": "beba704c",
   "metadata": {},
   "source": [
    "\n",
    "## Ideas for Expansion\n",
    "\n",
    "- Add PDF/TextLoader to load your own documents\n",
    "- Replace OpenAI with Mistral or local LLM\n",
    "- Add LangChain tools like calculator, Python agent, or web search\n"
   ]
  }
 ],
 "metadata": {},
 "nbformat": 4,
 "nbformat_minor": 5
}
