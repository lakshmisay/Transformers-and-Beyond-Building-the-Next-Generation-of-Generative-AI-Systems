{
 "cells": [
  {
   "cell_type": "markdown",
   "id": "a0397192",
   "metadata": {},
   "source": [
    "\n",
    "# Chapter 8: Agentic AI Systems\n",
    "\n",
    "This notebook explores:\n",
    "- Fundamentals of AI agents and planning\n",
    "- Memory and reflection in agents\n",
    "- Multi-agent collaboration with CrewAI\n",
    "- Tool-using agents (search, calculator, APIs)\n",
    "\n",
    "## Learning Objectives\n",
    "\n",
    "- Understand what an agent loop is\n",
    "- Use memory and history with LLMs\n",
    "- Implement planning and tool invocation\n",
    "- Coordinate multiple agents for collaborative tasks\n"
   ]
  },
  {
   "cell_type": "markdown",
   "id": "30b22263",
   "metadata": {},
   "source": [
    "\n",
    "## What is an AI Agent?\n",
    "\n",
    "An AI agent uses a loop of:\n",
    "1. **Observation**: Takes input\n",
    "2. **Thought**: Reflects using LLM or logic\n",
    "3. **Action**: Chooses a tool or response\n",
    "4. **Memory**: Stores past interactions\n",
    "\n",
    "This enables goal-directed behavior.\n"
   ]
  },
  {
   "cell_type": "code",
   "execution_count": null,
   "id": "7ad8f696",
   "metadata": {},
   "outputs": [],
   "source": [
    "\n",
    "from langchain.agents import initialize_agent, Tool\n",
    "from langchain.llms import OpenAI\n",
    "\n",
    "# Define a simple tool\n",
    "def multiply(a, b): return str(int(a) * int(b))\n",
    "tools = [\n",
    "    Tool(name=\"Multiply\", func=lambda x: multiply(*x.split()), description=\"Multiply two numbers\")\n",
    "]\n",
    "\n",
    "llm = OpenAI(temperature=0)\n",
    "agent = initialize_agent(tools, llm, agent=\"zero-shot-react-description\", verbose=True)\n",
    "\n",
    "# Run an agent query\n",
    "response = agent.run(\"What is 3 multiplied by 5?\")\n",
    "print(\"Agent Response:\", response)\n"
   ]
  },
  {
   "cell_type": "markdown",
   "id": "125efb4d",
   "metadata": {},
   "source": [
    "\n",
    "## Adding Memory to Agents\n",
    "\n",
    "Agents can remember previous steps using conversation memory.\n"
   ]
  },
  {
   "cell_type": "code",
   "execution_count": null,
   "id": "5c73c0cc",
   "metadata": {},
   "outputs": [],
   "source": [
    "\n",
    "from langchain.chains import ConversationChain\n",
    "from langchain.memory import ConversationBufferMemory\n",
    "\n",
    "memory = ConversationBufferMemory()\n",
    "conversation = ConversationChain(llm=llm, memory=memory, verbose=True)\n",
    "\n",
    "conversation.predict(input=\"My name is John.\")\n",
    "conversation.predict(input=\"What is my name?\")\n"
   ]
  },
  {
   "cell_type": "markdown",
   "id": "e6c000c9",
   "metadata": {},
   "source": [
    "\n",
    "## Multi-Agent Collaboration with CrewAI\n",
    "\n",
    "CrewAI allows defining multiple agents with unique roles and coordination logic.\n"
   ]
  },
  {
   "cell_type": "code",
   "execution_count": null,
   "id": "13885212",
   "metadata": {},
   "outputs": [],
   "source": [
    "\n",
    "from crewai import Agent, Crew\n",
    "\n",
    "planner = Agent(name=\"Planner\", role=\"Step planner\", goal=\"Break down tasks\")\n",
    "researcher = Agent(name=\"Researcher\", role=\"Web researcher\", goal=\"Find relevant information\")\n",
    "\n",
    "crew = Crew(agents=[planner, researcher])\n",
    "result = crew.run(\"Find steps and info to plan a Mars mission\")\n",
    "print(result)\n"
   ]
  },
  {
   "cell_type": "markdown",
   "id": "c92610aa",
   "metadata": {},
   "source": [
    "\n",
    "## Agent Loop Diagram\n",
    "\n",
    "A minimal agent loop consists of:\n",
    "- Observe → Think → Act → Remember → Repeat\n",
    "\n",
    "This architecture is useful in tasks requiring long-term reasoning or planning.\n"
   ]
  },
  {
   "cell_type": "markdown",
   "id": "24377955",
   "metadata": {},
   "source": [
    "\n",
    "## Exercises\n",
    "\n",
    "1. Build a custom tool and use it in a LangChain agent.\n",
    "2. Enable memory in your conversational agent and test history recall.\n",
    "3. Use CrewAI to assign different roles to a team of agents.\n",
    "4. Implement a loop that stops only when a specific goal is achieved.\n",
    "\n",
    "## References\n",
    "\n",
    "- LangChain Agents: https://docs.langchain.com/docs/components/agents\n",
    "- CrewAI: https://docs.crewai.com\n",
    "- Agent Loops: https://blog.langchain.dev/memory-and-agent-loop-design/\n"
   ]
  }
 ],
 "metadata": {},
 "nbformat": 4,
 "nbformat_minor": 5
}
